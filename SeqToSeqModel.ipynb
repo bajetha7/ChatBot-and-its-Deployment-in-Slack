{
 "cells": [
  {
   "cell_type": "markdown",
   "metadata": {},
   "source": [
    "## Seq to Seq Modelling : Hindi English Translation"
   ]
  },
  {
   "cell_type": "code",
   "execution_count": 70,
   "metadata": {
    "collapsed": true
   },
   "outputs": [],
   "source": [
    "import numpy as np\n",
    "np.random.seed(42)"
   ]
  },
  {
   "cell_type": "code",
   "execution_count": null,
   "metadata": {
    "collapsed": true
   },
   "outputs": [],
   "source": [
    "local_path=\"G:/UpX Academy/Deep Learning/Week6SeqToSeq/\""
   ]
  },
  {
   "cell_type": "code",
   "execution_count": null,
   "metadata": {
    "collapsed": true
   },
   "outputs": [],
   "source": [
    "import zipfile\n",
    "import io"
   ]
  },
  {
   "cell_type": "code",
   "execution_count": null,
   "metadata": {
    "collapsed": true
   },
   "outputs": [],
   "source": [
    "zf = zipfile.ZipFile(local_path+'hin-eng.zip', 'r')"
   ]
  },
  {
   "cell_type": "code",
   "execution_count": null,
   "metadata": {
    "collapsed": true
   },
   "outputs": [],
   "source": [
    "data = ''\n",
    "with zf.open('hin.txt') as readfile:\n",
    "  for line in io.TextIOWrapper(readfile, 'utf-8'):\n",
    "    data += line"
   ]
  },
  {
   "cell_type": "code",
   "execution_count": null,
   "metadata": {},
   "outputs": [],
   "source": [
    "data"
   ]
  },
  {
   "cell_type": "code",
   "execution_count": null,
   "metadata": {
    "collapsed": true
   },
   "outputs": [],
   "source": [
    "data =  data.split('\\n')"
   ]
  },
  {
   "cell_type": "code",
   "execution_count": null,
   "metadata": {},
   "outputs": [],
   "source": [
    "data"
   ]
  },
  {
   "cell_type": "code",
   "execution_count": null,
   "metadata": {},
   "outputs": [],
   "source": [
    "data[0]"
   ]
  },
  {
   "cell_type": "markdown",
   "metadata": {},
   "source": [
    "### Review data"
   ]
  },
  {
   "cell_type": "code",
   "execution_count": null,
   "metadata": {},
   "outputs": [],
   "source": [
    "len(data)"
   ]
  },
  {
   "cell_type": "markdown",
   "metadata": {},
   "source": [
    "### Separate out enoder and decoder input"
   ]
  },
  {
   "cell_type": "code",
   "execution_count": null,
   "metadata": {
    "collapsed": true
   },
   "outputs": [],
   "source": [
    "encoder_text = []"
   ]
  },
  {
   "cell_type": "code",
   "execution_count": null,
   "metadata": {
    "collapsed": true
   },
   "outputs": [],
   "source": [
    "decoder_text = []"
   ]
  },
  {
   "cell_type": "code",
   "execution_count": null,
   "metadata": {
    "collapsed": true
   },
   "outputs": [],
   "source": [
    "for line in data:\n",
    "    try:\n",
    "        in_txt, out_txt = line.split('\\t')\n",
    "        encoder_text.append(in_txt)\n",
    "        \n",
    "        # Add tab '<start>' as 'start sequence in target\n",
    "        # And '<end>' as End\n",
    "        decoder_text.append('<start> ' + out_txt + ' <end>')\n",
    "    except:\n",
    "        pass #ignore data which goes into error  "
   ]
  },
  {
   "cell_type": "code",
   "execution_count": null,
   "metadata": {},
   "outputs": [],
   "source": [
    "decoder_text[105:110]"
   ]
  },
  {
   "cell_type": "code",
   "execution_count": null,
   "metadata": {},
   "outputs": [],
   "source": [
    "encoder_text[105:110]"
   ]
  },
  {
   "cell_type": "markdown",
   "metadata": {},
   "source": [
    "### Build input and output sequences"
   ]
  },
  {
   "cell_type": "code",
   "execution_count": null,
   "metadata": {
    "collapsed": true
   },
   "outputs": [],
   "source": [
    "from tensorflow.python.keras.preprocessing.text import Tokenizer"
   ]
  },
  {
   "cell_type": "markdown",
   "metadata": {},
   "source": [
    "encoder Tokenizer"
   ]
  },
  {
   "cell_type": "code",
   "execution_count": null,
   "metadata": {
    "collapsed": true
   },
   "outputs": [],
   "source": [
    "encoder_t = Tokenizer()"
   ]
  },
  {
   "cell_type": "code",
   "execution_count": null,
   "metadata": {
    "collapsed": true
   },
   "outputs": [],
   "source": [
    "encoder_t.fit_on_texts(encoder_text)"
   ]
  },
  {
   "cell_type": "code",
   "execution_count": null,
   "metadata": {
    "collapsed": true
   },
   "outputs": [],
   "source": [
    "encoder_seq = encoder_t.texts_to_sequences(encoder_text)"
   ]
  },
  {
   "cell_type": "code",
   "execution_count": null,
   "metadata": {},
   "outputs": [],
   "source": [
    "encoder_seq[105:110]"
   ]
  },
  {
   "cell_type": "code",
   "execution_count": null,
   "metadata": {},
   "outputs": [],
   "source": [
    "max_encoder_seq_length = max([len(txt) for txt in encoder_seq])\n",
    "max_encoder_seq_length"
   ]
  },
  {
   "cell_type": "code",
   "execution_count": null,
   "metadata": {
    "collapsed": true
   },
   "outputs": [],
   "source": [
    "encoder_vocab_size = len(encoder_t.word_index)"
   ]
  },
  {
   "cell_type": "code",
   "execution_count": null,
   "metadata": {},
   "outputs": [],
   "source": [
    "encoder_vocab_size"
   ]
  },
  {
   "cell_type": "markdown",
   "metadata": {},
   "source": [
    "Decoder Tokenizer"
   ]
  },
  {
   "cell_type": "code",
   "execution_count": null,
   "metadata": {
    "collapsed": true
   },
   "outputs": [],
   "source": [
    "decoder_t = Tokenizer(filters='!\"#$%&()*+,-./:;=?@[\\\\]^_`{|}~\\t\\n')"
   ]
  },
  {
   "cell_type": "code",
   "execution_count": null,
   "metadata": {
    "collapsed": true
   },
   "outputs": [],
   "source": [
    "decoder_t.fit_on_texts(decoder_text)"
   ]
  },
  {
   "cell_type": "code",
   "execution_count": null,
   "metadata": {
    "collapsed": true
   },
   "outputs": [],
   "source": [
    "decoder_seq = decoder_t.texts_to_sequences(decoder_text)"
   ]
  },
  {
   "cell_type": "code",
   "execution_count": null,
   "metadata": {},
   "outputs": [],
   "source": [
    "decoder_seq[105:110]"
   ]
  },
  {
   "cell_type": "code",
   "execution_count": null,
   "metadata": {},
   "outputs": [],
   "source": [
    "max_decoder_seq_length = max([len(txt) for txt in decoder_seq])\n",
    "max_decoder_seq_length"
   ]
  },
  {
   "cell_type": "code",
   "execution_count": null,
   "metadata": {
    "collapsed": true
   },
   "outputs": [],
   "source": [
    "decoder_vocab_size = len(decoder_t.word_index)"
   ]
  },
  {
   "cell_type": "code",
   "execution_count": null,
   "metadata": {},
   "outputs": [],
   "source": [
    "decoder_vocab_size"
   ]
  },
  {
   "cell_type": "markdown",
   "metadata": {},
   "source": [
    "### Pad Sequences"
   ]
  },
  {
   "cell_type": "code",
   "execution_count": null,
   "metadata": {
    "collapsed": true
   },
   "outputs": [],
   "source": [
    "from tensorflow.python.keras.preprocessing.sequence import pad_sequences"
   ]
  },
  {
   "cell_type": "code",
   "execution_count": null,
   "metadata": {
    "collapsed": true
   },
   "outputs": [],
   "source": [
    "encoder_input_data = pad_sequences(encoder_seq, maxlen=max_encoder_seq_length, padding='post')"
   ]
  },
  {
   "cell_type": "code",
   "execution_count": null,
   "metadata": {
    "collapsed": true
   },
   "outputs": [],
   "source": [
    "decoder_input_data = pad_sequences(decoder_seq, maxlen=max_decoder_seq_length, padding='post')"
   ]
  },
  {
   "cell_type": "code",
   "execution_count": 99,
   "metadata": {},
   "outputs": [
    {
     "data": {
      "text/plain": [
       "(2808, 22)"
      ]
     },
     "execution_count": 99,
     "metadata": {},
     "output_type": "execute_result"
    }
   ],
   "source": [
    "encoder_input_data.shape"
   ]
  },
  {
   "cell_type": "code",
   "execution_count": 100,
   "metadata": {},
   "outputs": [
    {
     "data": {
      "text/plain": [
       "array([  38,  743,    8,  519, 1085,    0,    0,    0,    0,    0,    0,\n",
       "          0,    0,    0,    0,    0,    0,    0,    0,    0,    0,    0])"
      ]
     },
     "execution_count": 100,
     "metadata": {},
     "output_type": "execute_result"
    }
   ],
   "source": [
    "encoder_input_data[1456]"
   ]
  },
  {
   "cell_type": "code",
   "execution_count": null,
   "metadata": {},
   "outputs": [],
   "source": [
    "decoder_input_data.shape"
   ]
  },
  {
   "cell_type": "markdown",
   "metadata": {},
   "source": [
    "Integer to Word Converter for Decoder Data"
   ]
  },
  {
   "cell_type": "code",
   "execution_count": null,
   "metadata": {
    "collapsed": true
   },
   "outputs": [],
   "source": [
    "int_to_word_decoder = dict((i,c) for c, i in decoder_t.word_index.items())"
   ]
  },
  {
   "cell_type": "code",
   "execution_count": null,
   "metadata": {},
   "outputs": [],
   "source": [
    "int_to_word_decoder[15]"
   ]
  },
  {
   "cell_type": "markdown",
   "metadata": {},
   "source": [
    "## Build Decoder Output"
   ]
  },
  {
   "cell_type": "code",
   "execution_count": null,
   "metadata": {
    "collapsed": true
   },
   "outputs": [],
   "source": [
    "decoder_target_data = np.zeros((decoder_input_data.shape[0], decoder_input_data.shape[1]))"
   ]
  },
  {
   "cell_type": "code",
   "execution_count": null,
   "metadata": {},
   "outputs": [],
   "source": [
    "decoder_target_data.shape"
   ]
  },
  {
   "cell_type": "code",
   "execution_count": null,
   "metadata": {
    "collapsed": true
   },
   "outputs": [],
   "source": [
    "for i in range(decoder_input_data.shape[0]):\n",
    "    for j in range(1,decoder_input_data.shape[1]):\n",
    "        decoder_target_data[i][j-1] = decoder_input_data[i][j]  "
   ]
  },
  {
   "cell_type": "code",
   "execution_count": null,
   "metadata": {},
   "outputs": [],
   "source": [
    "decoder_input_data[0]"
   ]
  },
  {
   "cell_type": "code",
   "execution_count": null,
   "metadata": {},
   "outputs": [],
   "source": [
    "decoder_target_data[0]"
   ]
  },
  {
   "cell_type": "markdown",
   "metadata": {},
   "source": [
    "Convert target data into one hot encode"
   ]
  },
  {
   "cell_type": "code",
   "execution_count": null,
   "metadata": {
    "collapsed": true
   },
   "outputs": [],
   "source": [
    "from tensorflow.python.keras.utils import  to_categorical"
   ]
  },
  {
   "cell_type": "code",
   "execution_count": null,
   "metadata": {
    "collapsed": true
   },
   "outputs": [],
   "source": [
    "decoder_target_one_hot = np.zeros((decoder_input_data.shape[0], \n",
    "                                   decoder_input_data.shape[1],\n",
    "                                   len(decoder_t.word_index)+1))"
   ]
  },
  {
   "cell_type": "code",
   "execution_count": null,
   "metadata": {
    "collapsed": true
   },
   "outputs": [],
   "source": [
    "for i in range(decoder_target_data.shape[0]):\n",
    "    for j in range(decoder_target_data.shape[1]):\n",
    "        decoder_target_one_hot[i][j] = to_categorical(decoder_target_data[i][j],\n",
    "                                                      num_classes=len(decoder_t.word_index)+1) "
   ]
  },
  {
   "cell_type": "code",
   "execution_count": null,
   "metadata": {},
   "outputs": [],
   "source": [
    "decoder_target_one_hot.shape"
   ]
  },
  {
   "cell_type": "code",
   "execution_count": null,
   "metadata": {},
   "outputs": [],
   "source": [
    "decoder_target_one_hot[0:1]"
   ]
  },
  {
   "cell_type": "markdown",
   "metadata": {},
   "source": [
    "## Building the Training Model"
   ]
  },
  {
   "cell_type": "code",
   "execution_count": null,
   "metadata": {
    "collapsed": true
   },
   "outputs": [],
   "source": [
    "from tensorflow.python.keras.layers import Input, LSTM, Dense, Embedding"
   ]
  },
  {
   "cell_type": "code",
   "execution_count": null,
   "metadata": {
    "collapsed": true
   },
   "outputs": [],
   "source": [
    "#define config parameters\n",
    "encoder_embedding_size = 50\n",
    "decoder_embedding_size = 50\n",
    "rnn_units = 256"
   ]
  },
  {
   "cell_type": "markdown",
   "metadata": {},
   "source": [
    "Build Encoder"
   ]
  },
  {
   "cell_type": "code",
   "execution_count": null,
   "metadata": {
    "collapsed": true
   },
   "outputs": [],
   "source": [
    "encoder_inputs = Input(shape=(None,))"
   ]
  },
  {
   "cell_type": "code",
   "execution_count": null,
   "metadata": {},
   "outputs": [],
   "source": [
    "encoder_inputs.shape"
   ]
  },
  {
   "cell_type": "code",
   "execution_count": null,
   "metadata": {
    "collapsed": true
   },
   "outputs": [],
   "source": [
    "encoder_embedding = Embedding(encoder_vocab_size+1, encoder_embedding_size)"
   ]
  },
  {
   "cell_type": "code",
   "execution_count": null,
   "metadata": {
    "collapsed": true
   },
   "outputs": [],
   "source": [
    "encoder_embedding_output = encoder_embedding(encoder_inputs)"
   ]
  },
  {
   "cell_type": "code",
   "execution_count": null,
   "metadata": {
    "collapsed": true
   },
   "outputs": [],
   "source": [
    "x, state_h, state_c = LSTM(rnn_units,return_state=True)(encoder_embedding_output)"
   ]
  },
  {
   "cell_type": "code",
   "execution_count": null,
   "metadata": {},
   "outputs": [],
   "source": [
    "state_c.graph"
   ]
  },
  {
   "cell_type": "code",
   "execution_count": null,
   "metadata": {
    "collapsed": true
   },
   "outputs": [],
   "source": [
    "encoder_states = [state_h, state_c]"
   ]
  },
  {
   "cell_type": "markdown",
   "metadata": {},
   "source": [
    "Build Decoder"
   ]
  },
  {
   "cell_type": "code",
   "execution_count": null,
   "metadata": {
    "collapsed": true
   },
   "outputs": [],
   "source": [
    "decoder_inputs = Input(shape=(None,))"
   ]
  },
  {
   "cell_type": "code",
   "execution_count": null,
   "metadata": {
    "collapsed": true
   },
   "outputs": [],
   "source": [
    "decoder_embedding = Embedding(decoder_vocab_size + 1, decoder_embedding_size)"
   ]
  },
  {
   "cell_type": "code",
   "execution_count": null,
   "metadata": {
    "collapsed": true
   },
   "outputs": [],
   "source": [
    "decoder_embedding_output = decoder_embedding(decoder_inputs)"
   ]
  },
  {
   "cell_type": "code",
   "execution_count": null,
   "metadata": {
    "collapsed": true
   },
   "outputs": [],
   "source": [
    "decoder_rnn = LSTM(rnn_units, return_sequences=True, return_state=True)"
   ]
  },
  {
   "cell_type": "code",
   "execution_count": null,
   "metadata": {
    "collapsed": true
   },
   "outputs": [],
   "source": [
    "#Initialize initial state with encoder_states\n",
    "#Output will be all hidden sequences, last 'h' state and last 'c' state\n",
    "x,_,_ = decoder_rnn(decoder_embedding_output, initial_state=encoder_states)"
   ]
  },
  {
   "cell_type": "code",
   "execution_count": null,
   "metadata": {
    "collapsed": true
   },
   "outputs": [],
   "source": [
    "decoder_dense = Dense(decoder_vocab_size + 1, activation='softmax')"
   ]
  },
  {
   "cell_type": "code",
   "execution_count": null,
   "metadata": {
    "collapsed": true
   },
   "outputs": [],
   "source": [
    "decoder_outputs = decoder_dense(x)"
   ]
  },
  {
   "cell_type": "markdown",
   "metadata": {},
   "source": [
    "## Build model using both Encoder and Decoder"
   ]
  },
  {
   "cell_type": "code",
   "execution_count": null,
   "metadata": {
    "collapsed": true
   },
   "outputs": [],
   "source": [
    "from tensorflow.python.keras.models import Model"
   ]
  },
  {
   "cell_type": "code",
   "execution_count": null,
   "metadata": {
    "collapsed": true
   },
   "outputs": [],
   "source": [
    "model = Model([encoder_inputs, decoder_inputs], #2 Inputs to the model\n",
    "              decoder_outputs) #Output of the model"
   ]
  },
  {
   "cell_type": "code",
   "execution_count": null,
   "metadata": {
    "collapsed": true
   },
   "outputs": [],
   "source": [
    "model.compile(optimizer='adam', loss='categorical_crossentropy')"
   ]
  },
  {
   "cell_type": "code",
   "execution_count": 71,
   "metadata": {},
   "outputs": [
    {
     "name": "stdout",
     "output_type": "stream",
     "text": [
      "__________________________________________________________________________________________________\n",
      "Layer (type)                    Output Shape         Param #     Connected to                     \n",
      "==================================================================================================\n",
      "input_1 (InputLayer)            (None, None)         0                                            \n",
      "__________________________________________________________________________________________________\n",
      "input_2 (InputLayer)            (None, None)         0                                            \n",
      "__________________________________________________________________________________________________\n",
      "embedding (Embedding)           (None, None, 50)     119450      input_1[0][0]                    \n",
      "__________________________________________________________________________________________________\n",
      "embedding_1 (Embedding)         (None, None, 50)     149650      input_2[0][0]                    \n",
      "__________________________________________________________________________________________________\n",
      "lstm (LSTM)                     [(None, 256), (None, 314368      embedding[0][0]                  \n",
      "__________________________________________________________________________________________________\n",
      "lstm_1 (LSTM)                   [(None, None, 256),  314368      embedding_1[0][0]                \n",
      "                                                                 lstm[0][1]                       \n",
      "                                                                 lstm[0][2]                       \n",
      "__________________________________________________________________________________________________\n",
      "dense (Dense)                   (None, None, 2993)   769201      lstm_1[0][0]                     \n",
      "==================================================================================================\n",
      "Total params: 1,667,037\n",
      "Trainable params: 1,667,037\n",
      "Non-trainable params: 0\n",
      "__________________________________________________________________________________________________\n"
     ]
    }
   ],
   "source": [
    "model.summary()"
   ]
  },
  {
   "cell_type": "code",
   "execution_count": 86,
   "metadata": {},
   "outputs": [
    {
     "name": "stdout",
     "output_type": "stream",
     "text": [
      "Train on 2246 samples, validate on 562 samples\n",
      "Epoch 1/100\n",
      "2246/2246 [==============================] - 59s 26ms/step - loss: 0.4002 - val_loss: 3.0672\n",
      "Epoch 2/100\n",
      "2246/2246 [==============================] - 59s 26ms/step - loss: 0.3963 - val_loss: 3.0636\n",
      "Epoch 3/100\n",
      "2246/2246 [==============================] - 59s 26ms/step - loss: 0.3891 - val_loss: 3.0684\n",
      "Epoch 4/100\n",
      "2246/2246 [==============================] - 59s 26ms/step - loss: 0.3856 - val_loss: 3.0648\n",
      "Epoch 5/100\n",
      "2246/2246 [==============================] - 60s 27ms/step - loss: 0.3788 - val_loss: 3.0862\n",
      "Epoch 6/100\n",
      "2246/2246 [==============================] - 59s 26ms/step - loss: 0.3707 - val_loss: 3.0922\n",
      "Epoch 7/100\n",
      "2246/2246 [==============================] - 59s 26ms/step - loss: 0.3680 - val_loss: 3.0896\n",
      "Epoch 8/100\n",
      "2246/2246 [==============================] - 59s 26ms/step - loss: 0.3615 - val_loss: 3.1322\n",
      "Epoch 9/100\n",
      "2246/2246 [==============================] - 59s 26ms/step - loss: 0.3557 - val_loss: 3.1170\n",
      "Epoch 10/100\n",
      "2246/2246 [==============================] - 59s 26ms/step - loss: 0.3524 - val_loss: 3.1093\n",
      "Epoch 11/100\n",
      "2246/2246 [==============================] - 60s 27ms/step - loss: 0.3446 - val_loss: 3.1411\n",
      "Epoch 12/100\n",
      "2246/2246 [==============================] - 61s 27ms/step - loss: 0.3414 - val_loss: 3.1277\n",
      "Epoch 13/100\n",
      "2246/2246 [==============================] - 59s 26ms/step - loss: 0.3346 - val_loss: 3.1245\n",
      "Epoch 14/100\n",
      "2246/2246 [==============================] - 59s 26ms/step - loss: 0.3279 - val_loss: 3.1496\n",
      "Epoch 15/100\n",
      "2246/2246 [==============================] - 59s 26ms/step - loss: 0.3227 - val_loss: 3.1442\n",
      "Epoch 16/100\n",
      "2246/2246 [==============================] - 59s 26ms/step - loss: 0.3181 - val_loss: 3.1630\n",
      "Epoch 17/100\n",
      "2246/2246 [==============================] - 59s 26ms/step - loss: 0.3174 - val_loss: 3.1538\n",
      "Epoch 18/100\n",
      "2246/2246 [==============================] - 59s 26ms/step - loss: 0.3104 - val_loss: 3.1581\n",
      "Epoch 19/100\n",
      "2246/2246 [==============================] - 61s 27ms/step - loss: 0.3042 - val_loss: 3.1889\n",
      "Epoch 20/100\n",
      "2246/2246 [==============================] - 60s 27ms/step - loss: 0.3017 - val_loss: 3.1779\n",
      "Epoch 21/100\n",
      "2246/2246 [==============================] - 59s 26ms/step - loss: 0.2962 - val_loss: 3.1882\n",
      "Epoch 22/100\n",
      "2246/2246 [==============================] - 59s 26ms/step - loss: 0.2907 - val_loss: 3.1910\n",
      "Epoch 23/100\n",
      "2246/2246 [==============================] - 60s 27ms/step - loss: 0.2863 - val_loss: 3.2011\n",
      "Epoch 24/100\n",
      "2246/2246 [==============================] - 58s 26ms/step - loss: 0.2826 - val_loss: 3.2148\n",
      "Epoch 25/100\n",
      "2246/2246 [==============================] - 60s 27ms/step - loss: 0.2788 - val_loss: 3.2050\n",
      "Epoch 26/100\n",
      "2246/2246 [==============================] - 59s 26ms/step - loss: 0.2744 - val_loss: 3.2178\n",
      "Epoch 27/100\n",
      "2246/2246 [==============================] - 59s 26ms/step - loss: 0.2695 - val_loss: 3.2278\n",
      "Epoch 28/100\n",
      "2246/2246 [==============================] - 60s 27ms/step - loss: 0.2673 - val_loss: 3.2301\n",
      "Epoch 29/100\n",
      "2246/2246 [==============================] - 60s 27ms/step - loss: 0.2618 - val_loss: 3.2390\n",
      "Epoch 30/100\n",
      "2246/2246 [==============================] - 62s 28ms/step - loss: 0.2611 - val_loss: 3.2349\n",
      "Epoch 31/100\n",
      "2246/2246 [==============================] - 60s 27ms/step - loss: 0.2572 - val_loss: 3.2519\n",
      "Epoch 32/100\n",
      "2246/2246 [==============================] - 59s 26ms/step - loss: 0.2512 - val_loss: 3.2547\n",
      "Epoch 33/100\n",
      "2246/2246 [==============================] - 60s 27ms/step - loss: 0.2466 - val_loss: 3.2613\n",
      "Epoch 34/100\n",
      "2246/2246 [==============================] - 59s 26ms/step - loss: 0.2446 - val_loss: 3.2608\n",
      "Epoch 35/100\n",
      "2246/2246 [==============================] - 59s 26ms/step - loss: 0.2425 - val_loss: 3.2587\n",
      "Epoch 36/100\n",
      "2246/2246 [==============================] - 59s 26ms/step - loss: 0.2377 - val_loss: 3.2690\n",
      "Epoch 37/100\n",
      "2246/2246 [==============================] - 60s 27ms/step - loss: 0.2343 - val_loss: 3.2904\n",
      "Epoch 38/100\n",
      "2246/2246 [==============================] - 59s 26ms/step - loss: 0.2290 - val_loss: 3.2929\n",
      "Epoch 39/100\n",
      "2246/2246 [==============================] - 59s 26ms/step - loss: 0.2255 - val_loss: 3.3037\n",
      "Epoch 40/100\n",
      "2246/2246 [==============================] - 59s 26ms/step - loss: 0.2246 - val_loss: 3.3147\n",
      "Epoch 41/100\n",
      "2246/2246 [==============================] - 60s 27ms/step - loss: 0.2223 - val_loss: 3.3092\n",
      "Epoch 42/100\n",
      "2246/2246 [==============================] - 59s 26ms/step - loss: 0.2209 - val_loss: 3.3236\n",
      "Epoch 43/100\n",
      "2246/2246 [==============================] - 59s 26ms/step - loss: 0.2148 - val_loss: 3.3388\n",
      "Epoch 44/100\n",
      "2246/2246 [==============================] - 60s 27ms/step - loss: 0.2124 - val_loss: 3.3273\n",
      "Epoch 45/100\n",
      "2246/2246 [==============================] - 60s 27ms/step - loss: 0.2098 - val_loss: 3.3337\n",
      "Epoch 46/100\n",
      "2246/2246 [==============================] - 59s 26ms/step - loss: 0.2052 - val_loss: 3.3360\n",
      "Epoch 47/100\n",
      "2246/2246 [==============================] - 59s 26ms/step - loss: 0.2046 - val_loss: 3.3297\n",
      "Epoch 48/100\n",
      "2246/2246 [==============================] - 59s 26ms/step - loss: 0.2005 - val_loss: 3.3448\n",
      "Epoch 49/100\n",
      "2246/2246 [==============================] - 59s 26ms/step - loss: 0.1974 - val_loss: 3.3586\n",
      "Epoch 50/100\n",
      "2246/2246 [==============================] - 59s 26ms/step - loss: 0.1960 - val_loss: 3.3604\n",
      "Epoch 51/100\n",
      "2246/2246 [==============================] - 59s 26ms/step - loss: 0.1950 - val_loss: 3.3568\n",
      "Epoch 52/100\n",
      "2246/2246 [==============================] - 59s 26ms/step - loss: 0.1929 - val_loss: 3.3653\n",
      "Epoch 53/100\n",
      "2246/2246 [==============================] - 59s 26ms/step - loss: 0.1863 - val_loss: 3.3861\n",
      "Epoch 54/100\n",
      "2246/2246 [==============================] - 59s 26ms/step - loss: 0.1840 - val_loss: 3.3863\n",
      "Epoch 55/100\n",
      "2246/2246 [==============================] - 59s 26ms/step - loss: 0.1810 - val_loss: 3.3901\n",
      "Epoch 56/100\n",
      "2246/2246 [==============================] - 59s 26ms/step - loss: 0.1781 - val_loss: 3.3931\n",
      "Epoch 57/100\n",
      "2246/2246 [==============================] - 60s 26ms/step - loss: 0.1756 - val_loss: 3.3874\n",
      "Epoch 58/100\n",
      "2246/2246 [==============================] - 59s 26ms/step - loss: 0.1752 - val_loss: 3.4093\n",
      "Epoch 59/100\n",
      "2246/2246 [==============================] - 50s 22ms/step - loss: 0.1712 - val_loss: 3.4155\n",
      "Epoch 60/100\n",
      "2246/2246 [==============================] - 47s 21ms/step - loss: 0.1667 - val_loss: 3.4090\n",
      "Epoch 61/100\n",
      "2246/2246 [==============================] - 47s 21ms/step - loss: 0.1656 - val_loss: 3.4170\n",
      "Epoch 62/100\n",
      "2246/2246 [==============================] - 47s 21ms/step - loss: 0.1613 - val_loss: 3.4228\n",
      "Epoch 63/100\n",
      "2246/2246 [==============================] - 48s 21ms/step - loss: 0.1590 - val_loss: 3.4211\n",
      "Epoch 64/100\n",
      "2246/2246 [==============================] - 47s 21ms/step - loss: 0.1580 - val_loss: 3.4446\n",
      "Epoch 65/100\n",
      "2246/2246 [==============================] - 46s 21ms/step - loss: 0.1542 - val_loss: 3.4359\n",
      "Epoch 66/100\n",
      "2246/2246 [==============================] - 47s 21ms/step - loss: 0.1579 - val_loss: 3.4522\n",
      "Epoch 67/100\n",
      "2246/2246 [==============================] - 47s 21ms/step - loss: 0.1532 - val_loss: 3.4503\n",
      "Epoch 68/100\n",
      "2246/2246 [==============================] - 47s 21ms/step - loss: 0.1536 - val_loss: 3.4766\n",
      "Epoch 69/100\n",
      "2246/2246 [==============================] - 47s 21ms/step - loss: 0.1621 - val_loss: 3.4648\n",
      "Epoch 70/100\n",
      "2246/2246 [==============================] - 47s 21ms/step - loss: 0.1519 - val_loss: 3.4597\n",
      "Epoch 71/100\n",
      "2246/2246 [==============================] - 49s 22ms/step - loss: 0.1459 - val_loss: 3.4689\n",
      "Epoch 72/100\n",
      "2246/2246 [==============================] - 47s 21ms/step - loss: 0.1420 - val_loss: 3.4880\n",
      "Epoch 73/100\n",
      "2246/2246 [==============================] - 47s 21ms/step - loss: 0.1385 - val_loss: 3.4758\n",
      "Epoch 74/100\n",
      "2246/2246 [==============================] - 47s 21ms/step - loss: 0.1440 - val_loss: 3.4818\n",
      "Epoch 75/100\n",
      "2246/2246 [==============================] - 47s 21ms/step - loss: 0.1369 - val_loss: 3.4802\n",
      "Epoch 76/100\n",
      "2246/2246 [==============================] - 47s 21ms/step - loss: 0.1312 - val_loss: 3.5099\n",
      "Epoch 77/100\n",
      "2246/2246 [==============================] - 48s 21ms/step - loss: 0.1314 - val_loss: 3.4947\n"
     ]
    },
    {
     "name": "stdout",
     "output_type": "stream",
     "text": [
      "Epoch 78/100\n",
      "2246/2246 [==============================] - 47s 21ms/step - loss: 0.1260 - val_loss: 3.5029\n",
      "Epoch 79/100\n",
      "2246/2246 [==============================] - 47s 21ms/step - loss: 0.1242 - val_loss: 3.4942\n",
      "Epoch 80/100\n",
      "2246/2246 [==============================] - 47s 21ms/step - loss: 0.1235 - val_loss: 3.5105\n",
      "Epoch 81/100\n",
      "2246/2246 [==============================] - 47s 21ms/step - loss: 0.1217 - val_loss: 3.5206\n",
      "Epoch 82/100\n",
      "2246/2246 [==============================] - 47s 21ms/step - loss: 0.1189 - val_loss: 3.5154\n",
      "Epoch 83/100\n",
      "2246/2246 [==============================] - 46s 21ms/step - loss: 0.1164 - val_loss: 3.5414\n",
      "Epoch 84/100\n",
      "2246/2246 [==============================] - 46s 21ms/step - loss: 0.1146 - val_loss: 3.5302\n",
      "Epoch 85/100\n",
      "2246/2246 [==============================] - 46s 21ms/step - loss: 0.1133 - val_loss: 3.5355\n",
      "Epoch 86/100\n",
      "2246/2246 [==============================] - 46s 21ms/step - loss: 0.1099 - val_loss: 3.5479\n",
      "Epoch 87/100\n",
      "2246/2246 [==============================] - 47s 21ms/step - loss: 0.1095 - val_loss: 3.5364\n",
      "Epoch 88/100\n",
      "2246/2246 [==============================] - 47s 21ms/step - loss: 0.1065 - val_loss: 3.5516\n",
      "Epoch 89/100\n",
      "2246/2246 [==============================] - 46s 21ms/step - loss: 0.1044 - val_loss: 3.5527\n",
      "Epoch 90/100\n",
      "2246/2246 [==============================] - 46s 21ms/step - loss: 0.1048 - val_loss: 3.5609\n",
      "Epoch 91/100\n",
      "2246/2246 [==============================] - 47s 21ms/step - loss: 0.1019 - val_loss: 3.5532\n",
      "Epoch 92/100\n",
      "2246/2246 [==============================] - 46s 21ms/step - loss: 0.1037 - val_loss: 3.5626\n",
      "Epoch 93/100\n",
      "2246/2246 [==============================] - 47s 21ms/step - loss: 0.1128 - val_loss: 3.5846\n",
      "Epoch 94/100\n",
      "2246/2246 [==============================] - 48s 21ms/step - loss: 0.1017 - val_loss: 3.5762\n",
      "Epoch 95/100\n",
      "2246/2246 [==============================] - 46s 21ms/step - loss: 0.0981 - val_loss: 3.5835\n",
      "Epoch 96/100\n",
      "2246/2246 [==============================] - 46s 21ms/step - loss: 0.0933 - val_loss: 3.5932\n",
      "Epoch 97/100\n",
      "2246/2246 [==============================] - 47s 21ms/step - loss: 0.0910 - val_loss: 3.5988\n",
      "Epoch 98/100\n",
      "2246/2246 [==============================] - 47s 21ms/step - loss: 0.0900 - val_loss: 3.5916\n",
      "Epoch 99/100\n",
      "2246/2246 [==============================] - 48s 21ms/step - loss: 0.0863 - val_loss: 3.5987\n",
      "Epoch 100/100\n",
      "2246/2246 [==============================] - 56s 25ms/step - loss: 0.0834 - val_loss: 3.6143\n"
     ]
    },
    {
     "data": {
      "text/plain": [
       "<tensorflow.python.keras.callbacks.History at 0x19600de73c8>"
      ]
     },
     "execution_count": 86,
     "metadata": {},
     "output_type": "execute_result"
    }
   ],
   "source": [
    "model.fit([encoder_input_data, decoder_input_data], decoder_target_one_hot,\n",
    "          batch_size=64,\n",
    "          epochs=100,\n",
    "          validation_split=0.2)"
   ]
  },
  {
   "cell_type": "code",
   "execution_count": null,
   "metadata": {
    "collapsed": true
   },
   "outputs": [],
   "source": [
    "model.save('seq2seq_training_translation.hd5')"
   ]
  },
  {
   "cell_type": "code",
   "execution_count": 87,
   "metadata": {},
   "outputs": [
    {
     "data": {
      "text/plain": [
       "<tf.Tensor 'dense_1/truediv:0' shape=(?, ?, 2993) dtype=float32>"
      ]
     },
     "execution_count": 87,
     "metadata": {},
     "output_type": "execute_result"
    }
   ],
   "source": [
    "decoder_outputs"
   ]
  },
  {
   "cell_type": "markdown",
   "metadata": {
    "collapsed": true
   },
   "source": [
    "## Building Model for Prediction"
   ]
  },
  {
   "cell_type": "markdown",
   "metadata": {},
   "source": [
    "### Build the encoder model to predict Encoder States"
   ]
  },
  {
   "cell_type": "code",
   "execution_count": 88,
   "metadata": {
    "collapsed": true
   },
   "outputs": [],
   "source": [
    "encoder_model = Model(encoder_inputs, encoder_states)"
   ]
  },
  {
   "cell_type": "markdown",
   "metadata": {},
   "source": [
    "### Build the decoder model"
   ]
  },
  {
   "cell_type": "code",
   "execution_count": 89,
   "metadata": {
    "collapsed": true
   },
   "outputs": [],
   "source": [
    "decoder_state_input_h = Input(shape=(rnn_units,))"
   ]
  },
  {
   "cell_type": "code",
   "execution_count": 90,
   "metadata": {
    "collapsed": true
   },
   "outputs": [],
   "source": [
    "decoder_state_input_c = Input(shape=(rnn_units,))"
   ]
  },
  {
   "cell_type": "code",
   "execution_count": 91,
   "metadata": {
    "collapsed": true
   },
   "outputs": [],
   "source": [
    "decoder_states_inputs = [decoder_state_input_h, decoder_state_input_c]"
   ]
  },
  {
   "cell_type": "markdown",
   "metadata": {},
   "source": [
    "Get RNN outputs,states(s)"
   ]
  },
  {
   "cell_type": "code",
   "execution_count": 92,
   "metadata": {
    "collapsed": true
   },
   "outputs": [],
   "source": [
    "x = decoder_embedding(decoder_inputs)"
   ]
  },
  {
   "cell_type": "code",
   "execution_count": 93,
   "metadata": {
    "collapsed": true
   },
   "outputs": [],
   "source": [
    "#We will use the layer which we trained earlier\n",
    "rnn_outputs, state_h, state_c = decoder_rnn(x, initial_state=decoder_states_inputs)"
   ]
  },
  {
   "cell_type": "code",
   "execution_count": 94,
   "metadata": {
    "collapsed": true
   },
   "outputs": [],
   "source": [
    "#Why do we need this?\n",
    "#We need this to predict the sequence of target language words\n",
    "decoder_states = [state_h, state_c]"
   ]
  },
  {
   "cell_type": "markdown",
   "metadata": {},
   "source": [
    "get decoder output"
   ]
  },
  {
   "cell_type": "code",
   "execution_count": 95,
   "metadata": {
    "collapsed": true
   },
   "outputs": [],
   "source": [
    "decoder_outputs = decoder_dense(rnn_outputs)"
   ]
  },
  {
   "cell_type": "markdown",
   "metadata": {},
   "source": [
    "Build decoder model"
   ]
  },
  {
   "cell_type": "code",
   "execution_count": 96,
   "metadata": {
    "collapsed": true
   },
   "outputs": [],
   "source": [
    "decoder_model = Model([decoder_inputs] + decoder_states_inputs,  #Model inputs\n",
    "                     [decoder_outputs] + decoder_states)"
   ]
  },
  {
   "cell_type": "markdown",
   "metadata": {},
   "source": [
    "## Predicting Output"
   ]
  },
  {
   "cell_type": "markdown",
   "metadata": {},
   "source": [
    "Build prediction function"
   ]
  },
  {
   "cell_type": "code",
   "execution_count": 97,
   "metadata": {
    "collapsed": true
   },
   "outputs": [],
   "source": [
    "def decode_sentence(input_sequence):\n",
    "    \n",
    "    #Get the encoder state values\n",
    "    decoder_initial_states_value = encoder_model.predict(input_sequence)\n",
    "    \n",
    "    #Build a sequence with '<start>' - starting sequence for Decoder\n",
    "    target_seq = np.zeros((1,1))    \n",
    "    target_seq[0][0] = decoder_t.word_index['<start>']\n",
    "    \n",
    "    #flag to check if prediction should be stopped\n",
    "    stop_loop = False\n",
    "    \n",
    "    #Initialize predicted sentence\n",
    "    predicted_sentence = ''\n",
    "    \n",
    "    #start the loop\n",
    "    while not stop_loop:\n",
    "        \n",
    "        predicted_outputs, h, c = decoder_model.predict([target_seq] + \n",
    "                                                        decoder_initial_states_value)\n",
    "        \n",
    "        #Get the predicted output with highest probability\n",
    "        predicted_output = np.argmax(predicted_outputs[0,-1,:])\n",
    "        \n",
    "        #Get the predicted word from predicter integer\n",
    "        predicted_word = int_to_word_decoder[predicted_output]\n",
    "        \n",
    "        #Check if prediction should stop\n",
    "        if(predicted_word == '<end>' or len(predicted_sentence) > max_decoder_seq_length):\n",
    "            \n",
    "            stop_loop = True\n",
    "            continue\n",
    "                    \n",
    "        #Updated predicted sentence\n",
    "        if (len(predicted_sentence) == 0):\n",
    "            predicted_sentence = predicted_word\n",
    "        else:\n",
    "            predicted_sentence = predicted_sentence + ' ' + predicted_word\n",
    "            \n",
    "        #Update target_seq to be the predicted word index\n",
    "        target_seq[0][0] = predicted_output\n",
    "        \n",
    "        #Update initial states value for decoder\n",
    "        decoder_initial_states_value = [h,c]\n",
    "        \n",
    "    \n",
    "    return predicted_sentence"
   ]
  },
  {
   "cell_type": "markdown",
   "metadata": {},
   "source": [
    "Call Prediction function"
   ]
  },
  {
   "cell_type": "code",
   "execution_count": 98,
   "metadata": {},
   "outputs": [
    {
     "name": "stdout",
     "output_type": "stream",
     "text": [
      "1373\n",
      "--------\n",
      "Input sentence:  My telephone is out of order.\n",
      "Predicted sentence:  मेरा फ़ोन खराब है।\n",
      "--------\n",
      "Input sentence:  Now they have three children.\n",
      "Predicted sentence:  अब उनके तीन बच्चे हैं।\n",
      "--------\n",
      "Input sentence:  One language is never enough.\n",
      "Predicted sentence:  एक भाषा कभी काफ़ी नहीं होती।\n",
      "--------\n",
      "Input sentence:  Please make yourself at home.\n",
      "Predicted sentence:  इसको अपना घर ही समझो।\n",
      "--------\n",
      "Input sentence:  Please make yourself at home.\n",
      "Predicted sentence:  इसको अपना घर ही समझो।\n",
      "--------\n",
      "Input sentence:  Please show me your notebook.\n",
      "Predicted sentence:  मुझे लगता है कि तुम ग़लत हो।\n",
      "--------\n",
      "Input sentence:  Please wait for five minutes.\n",
      "Predicted sentence:  कृपया पाँच मिनट इंतेज़ार करें।\n",
      "--------\n",
      "Input sentence:  Say which one you would like.\n",
      "Predicted sentence:  बोलो तुम्हे कौनसा चाहिए।\n",
      "--------\n",
      "Input sentence:  Seicho Matumoto died in 1992.\n",
      "Predicted sentence:  सेइचो मात्सुमोतो का निधन सन १९९२\n",
      "--------\n",
      "Input sentence:  She died yesterday afternoon.\n",
      "Predicted sentence:  उनकी मौत कल दोपहर को हुई थी।\n"
     ]
    }
   ],
   "source": [
    "#Get a random sentence\n",
    "start_num = np.random.randint(0, high=len(encoder_text) - 10)\n",
    "print(start_num)\n",
    "\n",
    "for i in range(start_num, start_num + 10):\n",
    "    input_seq = encoder_input_data[i : i+1]\n",
    "    predicted_sentence = decode_sentence(input_seq)\n",
    "    print('--------')\n",
    "    print ('Input sentence: ', encoder_text[i])\n",
    "    print ('Predicted sentence: ', predicted_sentence )"
   ]
  },
  {
   "cell_type": "markdown",
   "metadata": {},
   "source": [
    "## Save prediction model and tokenizers"
   ]
  },
  {
   "cell_type": "code",
   "execution_count": 102,
   "metadata": {},
   "outputs": [
    {
     "name": "stdout",
     "output_type": "stream",
     "text": [
      "WARNING:tensorflow:Layer lstm_1 was passed non-serializable keyword arguments: {'initial_state': [<tf.Tensor 'input_5:0' shape=(?, 256) dtype=float32>, <tf.Tensor 'input_6:0' shape=(?, 256) dtype=float32>]}. They will not be included in the serialized model (and thus will be missing at deserialization time).\n"
     ]
    }
   ],
   "source": [
    "#Save encoder and decoder model for Prediction\n",
    "encoder_model.compile(optimizer='adam', loss='mse')\n",
    "decoder_model.compile(optimizer='adam', loss='categorical_crossentropy')\n",
    "encoder_model.save('G:/UpX Academy/Deep Learning/Week6SeqToSeq/seq2seq_encoder_eng_hin.hd5')\n",
    "decoder_model.save('G:/UpX Academy/Deep Learning/Week6SeqToSeq/seq2seq_decoder_eng_hin.hd5')"
   ]
  },
  {
   "cell_type": "code",
   "execution_count": 103,
   "metadata": {
    "collapsed": true
   },
   "outputs": [],
   "source": [
    "#Save tokenizers\n",
    "import pickle\n",
    "\n",
    "pickle.dump(encoder_t,open('G:/UpX Academy/Deep Learning/Week6SeqToSeq/encoder_tokenizer_eng','wb'))\n",
    "pickle.dump(decoder_t,open('G:/UpX Academy/Deep Learning/Week6SeqToSeq/decoder_tokenizer_hin','wb'))"
   ]
  }
 ],
 "metadata": {
  "kernelspec": {
   "display_name": "Python 3",
   "language": "python",
   "name": "python3"
  },
  "language_info": {
   "codemirror_mode": {
    "name": "ipython",
    "version": 3
   },
   "file_extension": ".py",
   "mimetype": "text/x-python",
   "name": "python",
   "nbconvert_exporter": "python",
   "pygments_lexer": "ipython3",
   "version": "3.6.6"
  }
 },
 "nbformat": 4,
 "nbformat_minor": 2
}
